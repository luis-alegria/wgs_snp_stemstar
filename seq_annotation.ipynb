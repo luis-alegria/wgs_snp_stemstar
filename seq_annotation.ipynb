{
 "cells": [
  {
   "cell_type": "code",
   "execution_count": null,
   "id": "28a3cb64",
   "metadata": {},
   "outputs": [],
   "source": [
    "from Bio import SeqIO\n",
    "import pandas as pd"
   ]
  },
  {
   "cell_type": "code",
   "execution_count": null,
   "id": "2aadb5e9",
   "metadata": {},
   "outputs": [],
   "source": [
    "annots = pd.read_csv('./sequence_db_africa_mbovis.csv')"
   ]
  },
  {
   "cell_type": "code",
   "execution_count": null,
   "id": "313b89c5",
   "metadata": {},
   "outputs": [],
   "source": [
    "annots.head()"
   ]
  },
  {
   "cell_type": "code",
   "execution_count": null,
   "id": "c3e3d2d3",
   "metadata": {},
   "outputs": [],
   "source": [
    "with open ('./phylo_headers.txt', 'r') as file:\n",
    "    headers = file.readlines()\n",
    "    headers = [line.strip() for line in headers]"
   ]
  },
  {
   "cell_type": "code",
   "execution_count": null,
   "id": "e800d5e6",
   "metadata": {},
   "outputs": [],
   "source": [
    "# select sample in annots from headers\n",
    "\n",
    "sample_annot = annots[annots['SRA ID'].isin(headers)]"
   ]
  },
  {
   "cell_type": "code",
   "execution_count": null,
   "id": "3a54a690",
   "metadata": {},
   "outputs": [],
   "source": [
    "len(sample_annot)"
   ]
  },
  {
   "cell_type": "code",
   "execution_count": null,
   "id": "e422260c",
   "metadata": {},
   "outputs": [],
   "source": [
    "set_annots = sample_annot[['SRA ID', 'HOST', 'COUNTRY']]"
   ]
  },
  {
   "cell_type": "code",
   "execution_count": null,
   "id": "215b55ee",
   "metadata": {},
   "outputs": [],
   "source": [
    "set_annots  # Display the first few rows of the selected annotations"
   ]
  },
  {
   "cell_type": "code",
   "execution_count": null,
   "id": "d005dede",
   "metadata": {},
   "outputs": [],
   "source": [
    "set_annots_nospace = set_annots.replace(' ', '_', regex=True)"
   ]
  },
  {
   "cell_type": "code",
   "execution_count": null,
   "id": "3bbd3fbc",
   "metadata": {},
   "outputs": [],
   "source": [
    "print(set_annots_nospace) # Display the first few rows of the selected annotations"
   ]
  },
  {
   "cell_type": "code",
   "execution_count": null,
   "id": "169460e7",
   "metadata": {},
   "outputs": [],
   "source": [
    "set_annots_nospace['HOST_COUNTRY'] = set_annots_nospace['HOST'] + '-' + set_annots_nospace['COUNTRY']"
   ]
  },
  {
   "cell_type": "code",
   "execution_count": null,
   "id": "fe6dd7ca",
   "metadata": {},
   "outputs": [],
   "source": [
    "print(set_annots_nospace)  # Display the updated DataFrame with HOST_COUNTRY"
   ]
  },
  {
   "cell_type": "code",
   "execution_count": null,
   "id": "7f663e9e",
   "metadata": {},
   "outputs": [],
   "source": [
    "mapping = dict(zip(set_annots_nospace['SRA ID'], set_annots_nospace['HOST_COUNTRY']))"
   ]
  },
  {
   "cell_type": "code",
   "execution_count": null,
   "id": "ef7be2cb",
   "metadata": {},
   "outputs": [],
   "source": [
    "# Read, rename, and write sequences\n",
    "sequences = []\n",
    "name_counts = {}\n",
    "\n",
    "for seq in SeqIO.parse(\"snps_filter3.aln\", \"fasta\"):\n",
    "    if seq.id != \"Reference\" and seq.id in mapping:\n",
    "        new_name = mapping[seq.id]\n",
    "        # Add counter for duplicates\n",
    "        if new_name in name_counts:\n",
    "            name_counts[new_name] += 1\n",
    "            seq.id = f\"{new_name}_{name_counts[new_name]}\"\n",
    "        else:\n",
    "            name_counts[new_name] = 1\n",
    "            seq.id = new_name\n",
    "        seq.description = \"\"\n",
    "    sequences.append(seq)\n",
    "\n",
    "SeqIO.write(sequences, \"snps_filter3_annot.aln\", \"fasta-2line\")"
   ]
  }
 ],
 "metadata": {
  "kernelspec": {
   "display_name": "python_env",
   "language": "python",
   "name": "python3"
  },
  "language_info": {
   "codemirror_mode": {
    "name": "ipython",
    "version": 3
   },
   "file_extension": ".py",
   "mimetype": "text/x-python",
   "name": "python",
   "nbconvert_exporter": "python",
   "pygments_lexer": "ipython3",
   "version": "3.13.2"
  }
 },
 "nbformat": 4,
 "nbformat_minor": 5
}
