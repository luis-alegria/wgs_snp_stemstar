{
 "cells": [
  {
   "cell_type": "code",
   "execution_count": 1,
   "id": "65fdeb52",
   "metadata": {},
   "outputs": [],
   "source": [
    "import pandas as pd"
   ]
  },
  {
   "cell_type": "code",
   "execution_count": 2,
   "id": "f7b51541",
   "metadata": {},
   "outputs": [],
   "source": [
    "data = pd.read_csv('sequence_database_refined_africa.csv')"
   ]
  },
  {
   "cell_type": "code",
   "execution_count": 3,
   "id": "e1061eed",
   "metadata": {},
   "outputs": [
    {
     "data": {
      "text/html": [
       "<div>\n",
       "<style scoped>\n",
       "    .dataframe tbody tr th:only-of-type {\n",
       "        vertical-align: middle;\n",
       "    }\n",
       "\n",
       "    .dataframe tbody tr th {\n",
       "        vertical-align: top;\n",
       "    }\n",
       "\n",
       "    .dataframe thead th {\n",
       "        text-align: right;\n",
       "    }\n",
       "</style>\n",
       "<table border=\"1\" class=\"dataframe\">\n",
       "  <thead>\n",
       "    <tr style=\"text-align: right;\">\n",
       "      <th></th>\n",
       "      <th>SRA ID</th>\n",
       "      <th>STUDY_ASCENSION</th>\n",
       "      <th>LINEAGE</th>\n",
       "      <th>COUNTRY</th>\n",
       "      <th>HOST</th>\n",
       "      <th>PUBLICATION</th>\n",
       "      <th>PubMed ID</th>\n",
       "    </tr>\n",
       "  </thead>\n",
       "  <tbody>\n",
       "    <tr>\n",
       "      <th>0</th>\n",
       "      <td>SRR1791710</td>\n",
       "      <td>PRJNA251692</td>\n",
       "      <td>M. bovis (Afr2CC)</td>\n",
       "      <td>Tanzania</td>\n",
       "      <td>Baboon</td>\n",
       "      <td>Phylogenetic analysis of Mycobacterium bovis r...</td>\n",
       "      <td>39965004</td>\n",
       "    </tr>\n",
       "    <tr>\n",
       "      <th>1</th>\n",
       "      <td>SRR5486080</td>\n",
       "      <td>PRJNA384782</td>\n",
       "      <td>M. bovis</td>\n",
       "      <td>Eritrea</td>\n",
       "      <td>Bos taurus</td>\n",
       "      <td>Recovery of Mycobacterium tuberculosis Complex...</td>\n",
       "      <td>39822270</td>\n",
       "    </tr>\n",
       "    <tr>\n",
       "      <th>2</th>\n",
       "      <td>SRR5486086</td>\n",
       "      <td>PRJNA384782</td>\n",
       "      <td>M. bovis</td>\n",
       "      <td>Eritrea</td>\n",
       "      <td>Bos taurus</td>\n",
       "      <td>Recovery of Mycobacterium tuberculosis Complex...</td>\n",
       "      <td>39822270</td>\n",
       "    </tr>\n",
       "    <tr>\n",
       "      <th>3</th>\n",
       "      <td>SRR8064853</td>\n",
       "      <td>PRJNA497102</td>\n",
       "      <td>M. bovis</td>\n",
       "      <td>Zambia</td>\n",
       "      <td>Bos taurus</td>\n",
       "      <td>Recovery of Mycobacterium tuberculosis Complex...</td>\n",
       "      <td>39822270</td>\n",
       "    </tr>\n",
       "    <tr>\n",
       "      <th>4</th>\n",
       "      <td>SRR8064858</td>\n",
       "      <td>PRJNA497102</td>\n",
       "      <td>M. bovis</td>\n",
       "      <td>Zambia</td>\n",
       "      <td>Bos taurus</td>\n",
       "      <td>Recovery of Mycobacterium tuberculosis Complex...</td>\n",
       "      <td>39822270</td>\n",
       "    </tr>\n",
       "    <tr>\n",
       "      <th>5</th>\n",
       "      <td>SRR8065071</td>\n",
       "      <td>PRJNA497101</td>\n",
       "      <td>M. bovis</td>\n",
       "      <td>Uganda</td>\n",
       "      <td>Bos taurus</td>\n",
       "      <td>Recovery of Mycobacterium tuberculosis Complex...</td>\n",
       "      <td>39822270</td>\n",
       "    </tr>\n",
       "    <tr>\n",
       "      <th>6</th>\n",
       "      <td>SRR8065072</td>\n",
       "      <td>PRJNA497101</td>\n",
       "      <td>M. bovis</td>\n",
       "      <td>Uganda</td>\n",
       "      <td>Bos taurus</td>\n",
       "      <td>Recovery of Mycobacterium tuberculosis Complex...</td>\n",
       "      <td>39822270</td>\n",
       "    </tr>\n",
       "    <tr>\n",
       "      <th>7</th>\n",
       "      <td>SRR31781535</td>\n",
       "      <td>PRJNA1200723</td>\n",
       "      <td>M. bovis (BCGLIKE)</td>\n",
       "      <td>Morocco</td>\n",
       "      <td>Bos taurus</td>\n",
       "      <td>Phylogenetic analysis of Mycobacterium bovis r...</td>\n",
       "      <td>39965004</td>\n",
       "    </tr>\n",
       "    <tr>\n",
       "      <th>8</th>\n",
       "      <td>SRR31781534</td>\n",
       "      <td>PRJNA1200723</td>\n",
       "      <td>M. bovis</td>\n",
       "      <td>Morocco</td>\n",
       "      <td>Bos taurus</td>\n",
       "      <td>Phylogenetic analysis of Mycobacterium bovis r...</td>\n",
       "      <td>39965004</td>\n",
       "    </tr>\n",
       "    <tr>\n",
       "      <th>9</th>\n",
       "      <td>SRR31781567</td>\n",
       "      <td>PRJNA1200723</td>\n",
       "      <td>M. bovis (BCGLIKE)</td>\n",
       "      <td>Morocco</td>\n",
       "      <td>Bos taurus</td>\n",
       "      <td>Phylogenetic analysis of Mycobacterium bovis r...</td>\n",
       "      <td>39965004</td>\n",
       "    </tr>\n",
       "  </tbody>\n",
       "</table>\n",
       "</div>"
      ],
      "text/plain": [
       "        SRA ID STUDY_ASCENSION             LINEAGE   COUNTRY        HOST  \\\n",
       "0   SRR1791710     PRJNA251692   M. bovis (Afr2CC)  Tanzania      Baboon   \n",
       "1   SRR5486080     PRJNA384782            M. bovis   Eritrea  Bos taurus   \n",
       "2   SRR5486086     PRJNA384782            M. bovis   Eritrea  Bos taurus   \n",
       "3   SRR8064853     PRJNA497102            M. bovis    Zambia  Bos taurus   \n",
       "4   SRR8064858     PRJNA497102            M. bovis    Zambia  Bos taurus   \n",
       "5   SRR8065071     PRJNA497101            M. bovis    Uganda  Bos taurus   \n",
       "6   SRR8065072     PRJNA497101            M. bovis    Uganda  Bos taurus   \n",
       "7  SRR31781535    PRJNA1200723  M. bovis (BCGLIKE)   Morocco  Bos taurus   \n",
       "8  SRR31781534    PRJNA1200723            M. bovis   Morocco  Bos taurus   \n",
       "9  SRR31781567    PRJNA1200723  M. bovis (BCGLIKE)   Morocco  Bos taurus   \n",
       "\n",
       "                                         PUBLICATION  PubMed ID  \n",
       "0  Phylogenetic analysis of Mycobacterium bovis r...   39965004  \n",
       "1  Recovery of Mycobacterium tuberculosis Complex...   39822270  \n",
       "2  Recovery of Mycobacterium tuberculosis Complex...   39822270  \n",
       "3  Recovery of Mycobacterium tuberculosis Complex...   39822270  \n",
       "4  Recovery of Mycobacterium tuberculosis Complex...   39822270  \n",
       "5  Recovery of Mycobacterium tuberculosis Complex...   39822270  \n",
       "6  Recovery of Mycobacterium tuberculosis Complex...   39822270  \n",
       "7  Phylogenetic analysis of Mycobacterium bovis r...   39965004  \n",
       "8  Phylogenetic analysis of Mycobacterium bovis r...   39965004  \n",
       "9  Phylogenetic analysis of Mycobacterium bovis r...   39965004  "
      ]
     },
     "execution_count": 3,
     "metadata": {},
     "output_type": "execute_result"
    }
   ],
   "source": [
    "data.head(10)"
   ]
  },
  {
   "cell_type": "code",
   "execution_count": 4,
   "id": "db56fa5e",
   "metadata": {},
   "outputs": [
    {
     "data": {
      "text/plain": [
       "<bound method DataFrame.info of          SRA ID STUDY_ASCENSION            LINEAGE  \\\n",
       "0    SRR1791710     PRJNA251692  M. bovis (Afr2CC)   \n",
       "1    SRR5486080     PRJNA384782           M. bovis   \n",
       "2    SRR5486086     PRJNA384782           M. bovis   \n",
       "3    SRR8064853     PRJNA497102           M. bovis   \n",
       "4    SRR8064858     PRJNA497102           M. bovis   \n",
       "..          ...             ...                ...   \n",
       "154   ERR553337       PRJEB9545           M. bovis   \n",
       "155  SRR8065087     PRJNA497101  M. bovis (Afr2CC)   \n",
       "156  ERR1815540      PRJEB18668           M. bovis   \n",
       "157  ERR1815538      PRJEB18668           M. bovis   \n",
       "158  ERR1815550      PRJEB18668           M. bovis   \n",
       "\n",
       "                          COUNTRY          HOST  \\\n",
       "0                        Tanzania        Baboon   \n",
       "1                         Eritrea    Bos taurus   \n",
       "2                         Eritrea    Bos taurus   \n",
       "3                          Zambia    Bos taurus   \n",
       "4                          Zambia    Bos taurus   \n",
       "..                            ...           ...   \n",
       "154  Democratic Republic of Congo  Homo sapiens   \n",
       "155                        Uganda  Homo sapiens   \n",
       "156                  South Africa          Kudu   \n",
       "157                  South Africa          Lion   \n",
       "158                  South Africa          Lion   \n",
       "\n",
       "                                           PUBLICATION  PubMed ID  \n",
       "0    Phylogenetic analysis of Mycobacterium bovis r...   39965004  \n",
       "1    Recovery of Mycobacterium tuberculosis Complex...   39822270  \n",
       "2    Recovery of Mycobacterium tuberculosis Complex...   39822270  \n",
       "3    Recovery of Mycobacterium tuberculosis Complex...   39822270  \n",
       "4    Recovery of Mycobacterium tuberculosis Complex...   39822270  \n",
       "..                                                 ...        ...  \n",
       "154  Phylogenetic analysis of Mycobacterium bovis r...   39965004  \n",
       "155  Phylogenetic analysis of Mycobacterium bovis r...   39965004  \n",
       "156  Phylogenetic analysis of Mycobacterium bovis r...   39965004  \n",
       "157  Phylogenetic analysis of Mycobacterium bovis r...   39965004  \n",
       "158  Phylogenetic analysis of Mycobacterium bovis r...   39965004  \n",
       "\n",
       "[159 rows x 7 columns]>"
      ]
     },
     "execution_count": 4,
     "metadata": {},
     "output_type": "execute_result"
    }
   ],
   "source": [
    "data.info"
   ]
  },
  {
   "cell_type": "code",
   "execution_count": 5,
   "id": "71db38c2",
   "metadata": {},
   "outputs": [
    {
     "data": {
      "text/plain": [
       "(159, 7)"
      ]
     },
     "execution_count": 5,
     "metadata": {},
     "output_type": "execute_result"
    }
   ],
   "source": [
    "data.shape"
   ]
  },
  {
   "cell_type": "code",
   "execution_count": 6,
   "id": "51282cec",
   "metadata": {},
   "outputs": [
    {
     "data": {
      "text/plain": [
       "array(['M. bovis (Afr2CC)', 'M. bovis', 'M. bovis (BCGLIKE)',\n",
       "       'M. bovis (Afr1CC)', 'M. orygis', 'M. caprae'], dtype=object)"
      ]
     },
     "execution_count": 6,
     "metadata": {},
     "output_type": "execute_result"
    }
   ],
   "source": [
    "data['LINEAGE'].unique()"
   ]
  },
  {
   "cell_type": "code",
   "execution_count": 7,
   "id": "2484701c",
   "metadata": {},
   "outputs": [],
   "source": [
    "remove_row = ['M. bovis (BCGLIKE)', 'M. orygis','M. caprae']\n",
    "data = data[~data['LINEAGE'].isin(remove_row)]"
   ]
  },
  {
   "cell_type": "code",
   "execution_count": 13,
   "id": "f6a89adc",
   "metadata": {},
   "outputs": [
    {
     "data": {
      "text/plain": [
       "(121, 7)"
      ]
     },
     "execution_count": 13,
     "metadata": {},
     "output_type": "execute_result"
    }
   ],
   "source": [
    "data.shape"
   ]
  },
  {
   "cell_type": "code",
   "execution_count": null,
   "id": "2b576f82",
   "metadata": {},
   "outputs": [],
   "source": [
    "# data[\"SRA ID\"].to_csv('sample_sra_ids.txt', index=False, header=False, lineterminator='\\n')"
   ]
  },
  {
   "cell_type": "code",
   "execution_count": null,
   "id": "93b66707",
   "metadata": {},
   "outputs": [],
   "source": [
    "# data.to_csv('sequence_db_africa_mbovis.csv', index=False)"
   ]
  }
 ],
 "metadata": {
  "kernelspec": {
   "display_name": "python_env",
   "language": "python",
   "name": "python3"
  },
  "language_info": {
   "codemirror_mode": {
    "name": "ipython",
    "version": 3
   },
   "file_extension": ".py",
   "mimetype": "text/x-python",
   "name": "python",
   "nbconvert_exporter": "python",
   "pygments_lexer": "ipython3",
   "version": "3.13.5"
  }
 },
 "nbformat": 4,
 "nbformat_minor": 5
}
